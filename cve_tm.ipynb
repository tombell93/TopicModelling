{
 "cells": [
  {
   "cell_type": "code",
   "execution_count": 4,
   "id": "4794c80b-4ed8-4e1e-aba2-eff1a74c27e5",
   "metadata": {
    "tags": []
   },
   "outputs": [
    {
     "name": "stdout",
     "output_type": "stream",
     "text": [
      "huggingface/tokenizers: The current process just got forked, after parallelism has already been used. Disabling parallelism to avoid deadlocks...\n",
      "To disable this warning, you can either:\n",
      "\t- Avoid using `tokenizers` before the fork if possible\n",
      "\t- Explicitly set the environment variable TOKENIZERS_PARALLELISM=(true | false)\n",
      "Defaulting to user installation because normal site-packages is not writeable\n",
      "Requirement already satisfied: pip in /Users/tombell/Library/Python/3.8/lib/python/site-packages (23.0.1)\n"
     ]
    }
   ],
   "source": [
    "import sys\n",
    "!{sys.executable} -m pip install --upgrade pip\n"
   ]
  },
  {
   "cell_type": "code",
   "execution_count": 5,
   "id": "2c682357-050f-4ea0-b93b-676f62c6c75a",
   "metadata": {
    "collapsed": true,
    "jupyter": {
     "outputs_hidden": true
    },
    "tags": []
   },
   "outputs": [
    {
     "name": "stdout",
     "output_type": "stream",
     "text": [
      "huggingface/tokenizers: The current process just got forked, after parallelism has already been used. Disabling parallelism to avoid deadlocks...\n",
      "To disable this warning, you can either:\n",
      "\t- Avoid using `tokenizers` before the fork if possible\n",
      "\t- Explicitly set the environment variable TOKENIZERS_PARALLELISM=(true | false)\n",
      "Defaulting to user installation because normal site-packages is not writeable\n",
      "Requirement already satisfied: numpy==1.23.5 in /Users/tombell/Library/Python/3.8/lib/python/site-packages (1.23.5)\n",
      "huggingface/tokenizers: The current process just got forked, after parallelism has already been used. Disabling parallelism to avoid deadlocks...\n",
      "To disable this warning, you can either:\n",
      "\t- Avoid using `tokenizers` before the fork if possible\n",
      "\t- Explicitly set the environment variable TOKENIZERS_PARALLELISM=(true | false)\n",
      "Defaulting to user installation because normal site-packages is not writeable\n",
      "Requirement already satisfied: pandas in /Users/tombell/Library/Python/3.8/lib/python/site-packages (2.0.0)\n",
      "Requirement already satisfied: python-dateutil>=2.8.2 in /Users/tombell/Library/Python/3.8/lib/python/site-packages (from pandas) (2.8.2)\n",
      "Requirement already satisfied: pytz>=2020.1 in /Users/tombell/Library/Python/3.8/lib/python/site-packages (from pandas) (2023.3)\n",
      "Requirement already satisfied: numpy>=1.20.3 in /Users/tombell/Library/Python/3.8/lib/python/site-packages (from pandas) (1.23.5)\n",
      "Requirement already satisfied: tzdata>=2022.1 in /Users/tombell/Library/Python/3.8/lib/python/site-packages (from pandas) (2023.3)\n",
      "Requirement already satisfied: six>=1.5 in /Library/Developer/CommandLineTools/Library/Frameworks/Python3.framework/Versions/3.8/lib/python3.8/site-packages (from python-dateutil>=2.8.2->pandas) (1.15.0)\n",
      "huggingface/tokenizers: The current process just got forked, after parallelism has already been used. Disabling parallelism to avoid deadlocks...\n",
      "To disable this warning, you can either:\n",
      "\t- Avoid using `tokenizers` before the fork if possible\n",
      "\t- Explicitly set the environment variable TOKENIZERS_PARALLELISM=(true | false)\n",
      "Defaulting to user installation because normal site-packages is not writeable\n",
      "Requirement already satisfied: bertopic in /Users/tombell/Library/Python/3.8/lib/python/site-packages (0.14.1)\n",
      "Requirement already satisfied: hdbscan>=0.8.29 in /Users/tombell/Library/Python/3.8/lib/python/site-packages (from bertopic) (0.8.29)\n",
      "Requirement already satisfied: sentence-transformers>=0.4.1 in /Users/tombell/Library/Python/3.8/lib/python/site-packages (from bertopic) (2.2.2)\n",
      "Requirement already satisfied: pandas>=1.1.5 in /Users/tombell/Library/Python/3.8/lib/python/site-packages (from bertopic) (2.0.0)\n",
      "Requirement already satisfied: tqdm>=4.41.1 in /Users/tombell/Library/Python/3.8/lib/python/site-packages (from bertopic) (4.65.0)\n",
      "Requirement already satisfied: plotly>=4.7.0 in /Users/tombell/Library/Python/3.8/lib/python/site-packages (from bertopic) (5.14.0)\n",
      "Requirement already satisfied: umap-learn>=0.5.0 in /Users/tombell/Library/Python/3.8/lib/python/site-packages (from bertopic) (0.5.3)\n",
      "Requirement already satisfied: numpy>=1.20.0 in /Users/tombell/Library/Python/3.8/lib/python/site-packages (from bertopic) (1.23.5)\n",
      "Requirement already satisfied: scikit-learn>=0.22.2.post1 in /Users/tombell/Library/Python/3.8/lib/python/site-packages (from bertopic) (1.2.2)\n",
      "Requirement already satisfied: joblib>=1.0 in /Users/tombell/Library/Python/3.8/lib/python/site-packages (from hdbscan>=0.8.29->bertopic) (1.2.0)\n",
      "Requirement already satisfied: cython>=0.27 in /Users/tombell/Library/Python/3.8/lib/python/site-packages (from hdbscan>=0.8.29->bertopic) (0.29.34)\n",
      "Requirement already satisfied: scipy>=1.0 in /Users/tombell/Library/Python/3.8/lib/python/site-packages (from hdbscan>=0.8.29->bertopic) (1.10.1)\n",
      "Requirement already satisfied: python-dateutil>=2.8.2 in /Users/tombell/Library/Python/3.8/lib/python/site-packages (from pandas>=1.1.5->bertopic) (2.8.2)\n",
      "Requirement already satisfied: pytz>=2020.1 in /Users/tombell/Library/Python/3.8/lib/python/site-packages (from pandas>=1.1.5->bertopic) (2023.3)\n",
      "Requirement already satisfied: tzdata>=2022.1 in /Users/tombell/Library/Python/3.8/lib/python/site-packages (from pandas>=1.1.5->bertopic) (2023.3)\n",
      "Requirement already satisfied: packaging in /Users/tombell/Library/Python/3.8/lib/python/site-packages (from plotly>=4.7.0->bertopic) (23.0)\n",
      "Requirement already satisfied: tenacity>=6.2.0 in /Users/tombell/Library/Python/3.8/lib/python/site-packages (from plotly>=4.7.0->bertopic) (8.2.2)\n",
      "Requirement already satisfied: threadpoolctl>=2.0.0 in /Users/tombell/Library/Python/3.8/lib/python/site-packages (from scikit-learn>=0.22.2.post1->bertopic) (3.1.0)\n",
      "Requirement already satisfied: sentencepiece in /Users/tombell/Library/Python/3.8/lib/python/site-packages (from sentence-transformers>=0.4.1->bertopic) (0.1.97)\n",
      "Requirement already satisfied: torch>=1.6.0 in /Users/tombell/Library/Python/3.8/lib/python/site-packages (from sentence-transformers>=0.4.1->bertopic) (2.0.0)\n",
      "Requirement already satisfied: transformers<5.0.0,>=4.6.0 in /Users/tombell/Library/Python/3.8/lib/python/site-packages (from sentence-transformers>=0.4.1->bertopic) (4.27.4)\n",
      "Requirement already satisfied: torchvision in /Users/tombell/Library/Python/3.8/lib/python/site-packages (from sentence-transformers>=0.4.1->bertopic) (0.15.1)\n",
      "Requirement already satisfied: huggingface-hub>=0.4.0 in /Users/tombell/Library/Python/3.8/lib/python/site-packages (from sentence-transformers>=0.4.1->bertopic) (0.13.3)\n",
      "Requirement already satisfied: nltk in /Users/tombell/Library/Python/3.8/lib/python/site-packages (from sentence-transformers>=0.4.1->bertopic) (3.8.1)\n",
      "Requirement already satisfied: numba>=0.49 in /Users/tombell/Library/Python/3.8/lib/python/site-packages (from umap-learn>=0.5.0->bertopic) (0.56.4)\n",
      "Requirement already satisfied: pynndescent>=0.5 in /Users/tombell/Library/Python/3.8/lib/python/site-packages (from umap-learn>=0.5.0->bertopic) (0.5.8)\n",
      "Requirement already satisfied: filelock in /Users/tombell/Library/Python/3.8/lib/python/site-packages (from huggingface-hub>=0.4.0->sentence-transformers>=0.4.1->bertopic) (3.10.7)\n",
      "Requirement already satisfied: requests in /Users/tombell/Library/Python/3.8/lib/python/site-packages (from huggingface-hub>=0.4.0->sentence-transformers>=0.4.1->bertopic) (2.28.2)\n",
      "Requirement already satisfied: typing-extensions>=3.7.4.3 in /Users/tombell/Library/Python/3.8/lib/python/site-packages (from huggingface-hub>=0.4.0->sentence-transformers>=0.4.1->bertopic) (4.5.0)\n",
      "Requirement already satisfied: pyyaml>=5.1 in /Users/tombell/Library/Python/3.8/lib/python/site-packages (from huggingface-hub>=0.4.0->sentence-transformers>=0.4.1->bertopic) (6.0)\n",
      "Requirement already satisfied: llvmlite<0.40,>=0.39.0dev0 in /Users/tombell/Library/Python/3.8/lib/python/site-packages (from numba>=0.49->umap-learn>=0.5.0->bertopic) (0.39.1)\n",
      "Requirement already satisfied: importlib-metadata in /Users/tombell/Library/Python/3.8/lib/python/site-packages (from numba>=0.49->umap-learn>=0.5.0->bertopic) (6.1.0)\n",
      "Requirement already satisfied: setuptools in /Library/Developer/CommandLineTools/Library/Frameworks/Python3.framework/Versions/3.8/lib/python3.8/site-packages (from numba>=0.49->umap-learn>=0.5.0->bertopic) (49.2.1)\n",
      "Requirement already satisfied: six>=1.5 in /Library/Developer/CommandLineTools/Library/Frameworks/Python3.framework/Versions/3.8/lib/python3.8/site-packages (from python-dateutil>=2.8.2->pandas>=1.1.5->bertopic) (1.15.0)\n",
      "Requirement already satisfied: jinja2 in /Users/tombell/Library/Python/3.8/lib/python/site-packages (from torch>=1.6.0->sentence-transformers>=0.4.1->bertopic) (3.1.2)\n",
      "Requirement already satisfied: networkx in /Users/tombell/Library/Python/3.8/lib/python/site-packages (from torch>=1.6.0->sentence-transformers>=0.4.1->bertopic) (3.0)\n",
      "Requirement already satisfied: sympy in /Users/tombell/Library/Python/3.8/lib/python/site-packages (from torch>=1.6.0->sentence-transformers>=0.4.1->bertopic) (1.11.1)\n",
      "Requirement already satisfied: regex!=2019.12.17 in /Users/tombell/Library/Python/3.8/lib/python/site-packages (from transformers<5.0.0,>=4.6.0->sentence-transformers>=0.4.1->bertopic) (2023.3.23)\n",
      "Requirement already satisfied: tokenizers!=0.11.3,<0.14,>=0.11.1 in /Users/tombell/Library/Python/3.8/lib/python/site-packages (from transformers<5.0.0,>=4.6.0->sentence-transformers>=0.4.1->bertopic) (0.13.2)\n",
      "Requirement already satisfied: click in /Users/tombell/Library/Python/3.8/lib/python/site-packages (from nltk->sentence-transformers>=0.4.1->bertopic) (8.1.3)\n",
      "Requirement already satisfied: pillow!=8.3.*,>=5.3.0 in /Users/tombell/Library/Python/3.8/lib/python/site-packages (from torchvision->sentence-transformers>=0.4.1->bertopic) (9.5.0)\n",
      "Requirement already satisfied: zipp>=0.5 in /Users/tombell/Library/Python/3.8/lib/python/site-packages (from importlib-metadata->numba>=0.49->umap-learn>=0.5.0->bertopic) (3.15.0)\n",
      "Requirement already satisfied: MarkupSafe>=2.0 in /Users/tombell/Library/Python/3.8/lib/python/site-packages (from jinja2->torch>=1.6.0->sentence-transformers>=0.4.1->bertopic) (2.1.2)\n",
      "Requirement already satisfied: idna<4,>=2.5 in /Users/tombell/Library/Python/3.8/lib/python/site-packages (from requests->huggingface-hub>=0.4.0->sentence-transformers>=0.4.1->bertopic) (3.4)\n",
      "Requirement already satisfied: certifi>=2017.4.17 in /Users/tombell/Library/Python/3.8/lib/python/site-packages (from requests->huggingface-hub>=0.4.0->sentence-transformers>=0.4.1->bertopic) (2022.12.7)\n",
      "Requirement already satisfied: urllib3<1.27,>=1.21.1 in /Users/tombell/Library/Python/3.8/lib/python/site-packages (from requests->huggingface-hub>=0.4.0->sentence-transformers>=0.4.1->bertopic) (1.26.15)\n",
      "Requirement already satisfied: charset-normalizer<4,>=2 in /Users/tombell/Library/Python/3.8/lib/python/site-packages (from requests->huggingface-hub>=0.4.0->sentence-transformers>=0.4.1->bertopic) (3.1.0)\n",
      "Requirement already satisfied: mpmath>=0.19 in /Users/tombell/Library/Python/3.8/lib/python/site-packages (from sympy->torch>=1.6.0->sentence-transformers>=0.4.1->bertopic) (1.3.0)\n"
     ]
    }
   ],
   "source": [
    "!{sys.executable} -m pip install numpy==1.23.5\n",
    "!{sys.executable} -m pip install pandas\n",
    "!{sys.executable} -m pip install bertopic"
   ]
  },
  {
   "cell_type": "code",
   "execution_count": 25,
   "id": "77edfa06-c6aa-4e64-bfcd-eda88d790e37",
   "metadata": {
    "tags": []
   },
   "outputs": [
    {
     "data": {
      "text/plain": [
       "100"
      ]
     },
     "execution_count": 25,
     "metadata": {},
     "output_type": "execute_result"
    }
   ],
   "source": [
    "from bertopic import BERTopic\n",
    "\n",
    "import json\n",
    "import pandas as pd\n",
    "\n",
    "with open(\"data/nvdcve-1.1-2023.json\", \"r\", encoding=\"utf-8\") as f:\n",
    "    docs_tmp = json.load(f)[\"CVE_Items\"]\n",
    "len(docs)"
   ]
  },
  {
   "cell_type": "code",
   "execution_count": 34,
   "id": "c6ceede6-b696-4ab2-af98-18824c31532a",
   "metadata": {
    "tags": []
   },
   "outputs": [
    {
     "data": {
      "text/plain": [
       "'An information exposure vulnerability in the Palo Alto Networks Cortex XDR agent on Windows devices allows a local system administrator to disclose the admin password for the agent in cleartext, which bad actors can then use to execute privileged cytool commands that disable or uninstall the agent.'"
      ]
     },
     "execution_count": 34,
     "metadata": {},
     "output_type": "execute_result"
    }
   ],
   "source": [
    "docs_tmp[0]['cve']['description']['description_data'][0]['value']"
   ]
  },
  {
   "cell_type": "code",
   "execution_count": 31,
   "id": "44217837-7168-4c1e-bacd-714bf24398b3",
   "metadata": {
    "tags": []
   },
   "outputs": [
    {
     "data": {
      "text/plain": [
       "3905"
      ]
     },
     "execution_count": 31,
     "metadata": {},
     "output_type": "execute_result"
    }
   ],
   "source": [
    "docs = []\n",
    "\n",
    "for d in docs_tmp[:]:\n",
    "    docs.append(d['cve']['description']['description_data'][0]['value'])\n",
    "    \n",
    "len(docs)"
   ]
  },
  {
   "cell_type": "code",
   "execution_count": 32,
   "id": "71f6621f-7dae-4602-b8fa-03384961a75d",
   "metadata": {
    "tags": []
   },
   "outputs": [],
   "source": [
    "topic_model = BERTopic(embedding_model=\"all-MiniLM-L6-v2\")\n",
    "topics, probs = topic_model.fit_transform(docs)"
   ]
  },
  {
   "cell_type": "code",
   "execution_count": 33,
   "id": "a64ef379-9535-4079-a2ec-c2dac2efc139",
   "metadata": {
    "tags": []
   },
   "outputs": [
    {
     "data": {
      "text/html": [
       "<div>\n",
       "<style scoped>\n",
       "    .dataframe tbody tr th:only-of-type {\n",
       "        vertical-align: middle;\n",
       "    }\n",
       "\n",
       "    .dataframe tbody tr th {\n",
       "        vertical-align: top;\n",
       "    }\n",
       "\n",
       "    .dataframe thead th {\n",
       "        text-align: right;\n",
       "    }\n",
       "</style>\n",
       "<table border=\"1\" class=\"dataframe\">\n",
       "  <thead>\n",
       "    <tr style=\"text-align: right;\">\n",
       "      <th></th>\n",
       "      <th>Topic</th>\n",
       "      <th>Count</th>\n",
       "      <th>Name</th>\n",
       "    </tr>\n",
       "  </thead>\n",
       "  <tbody>\n",
       "    <tr>\n",
       "      <th>0</th>\n",
       "      <td>-1</td>\n",
       "      <td>957</td>\n",
       "      <td>-1_the_to_is_be</td>\n",
       "    </tr>\n",
       "    <tr>\n",
       "      <th>1</th>\n",
       "      <td>0</td>\n",
       "      <td>117</td>\n",
       "      <td>0_github_repository_15_git</td>\n",
       "    </tr>\n",
       "    <tr>\n",
       "      <th>2</th>\n",
       "      <td>1</td>\n",
       "      <td>84</td>\n",
       "      <td>1_shortcode_attributes_contributor_outputting</td>\n",
       "    </tr>\n",
       "    <tr>\n",
       "      <th>3</th>\n",
       "      <td>2</td>\n",
       "      <td>73</td>\n",
       "      <td>2_cisco_device_attacker_could</td>\n",
       "    </tr>\n",
       "    <tr>\n",
       "      <th>4</th>\n",
       "      <td>3</td>\n",
       "      <td>58</td>\n",
       "      <td>3_repository_xss_github_scripting</td>\n",
       "    </tr>\n",
       "    <tr>\n",
       "      <th>...</th>\n",
       "      <td>...</td>\n",
       "      <td>...</td>\n",
       "      <td>...</td>\n",
       "    </tr>\n",
       "    <tr>\n",
       "      <th>112</th>\n",
       "      <td>111</td>\n",
       "      <td>11</td>\n",
       "      <td>111_photoshop_openimageio_24_earlier</td>\n",
       "    </tr>\n",
       "    <tr>\n",
       "      <th>113</th>\n",
       "      <td>112</td>\n",
       "      <td>11</td>\n",
       "      <td>112_music_gallery_mp4v2_has</td>\n",
       "    </tr>\n",
       "    <tr>\n",
       "      <th>114</th>\n",
       "      <td>113</td>\n",
       "      <td>11</td>\n",
       "      <td>113_funadmin_v3_databases_selectfields</td>\n",
       "    </tr>\n",
       "    <tr>\n",
       "      <th>115</th>\n",
       "      <td>114</td>\n",
       "      <td>10</td>\n",
       "      <td>114_xml_lti_external_entity</td>\n",
       "    </tr>\n",
       "    <tr>\n",
       "      <th>116</th>\n",
       "      <td>115</td>\n",
       "      <td>10</td>\n",
       "      <td>115_timescaledb_trend_apex_micro</td>\n",
       "    </tr>\n",
       "  </tbody>\n",
       "</table>\n",
       "<p>117 rows × 3 columns</p>\n",
       "</div>"
      ],
      "text/plain": [
       "     Topic  Count                                           Name\n",
       "0       -1    957                                -1_the_to_is_be\n",
       "1        0    117                     0_github_repository_15_git\n",
       "2        1     84  1_shortcode_attributes_contributor_outputting\n",
       "3        2     73                  2_cisco_device_attacker_could\n",
       "4        3     58              3_repository_xss_github_scripting\n",
       "..     ...    ...                                            ...\n",
       "112    111     11           111_photoshop_openimageio_24_earlier\n",
       "113    112     11                    112_music_gallery_mp4v2_has\n",
       "114    113     11         113_funadmin_v3_databases_selectfields\n",
       "115    114     10                    114_xml_lti_external_entity\n",
       "116    115     10               115_timescaledb_trend_apex_micro\n",
       "\n",
       "[117 rows x 3 columns]"
      ]
     },
     "execution_count": 33,
     "metadata": {},
     "output_type": "execute_result"
    }
   ],
   "source": [
    "topic_model.get_topic_info()"
   ]
  },
  {
   "cell_type": "code",
   "execution_count": 35,
   "id": "3a20cc9d-72f9-45b9-bfb1-dcc04de039ad",
   "metadata": {
    "tags": []
   },
   "outputs": [
    {
     "data": {
      "text/plain": [
       "[('github', 0.06658682623001431),\n",
       " ('repository', 0.057198453002493856),\n",
       " ('15', 0.030575618209822047),\n",
       " ('git', 0.030396123980613254),\n",
       " ('prior', 0.02868318976369754),\n",
       " ('froxlor', 0.020607616701422884),\n",
       " ('starting', 0.020302316876508106),\n",
       " ('v2', 0.019718937795187113),\n",
       " ('pyload', 0.018942189152794612),\n",
       " ('improper', 0.015612369640273209)]"
      ]
     },
     "execution_count": 35,
     "metadata": {},
     "output_type": "execute_result"
    }
   ],
   "source": [
    "topic_model.get_topic(0)"
   ]
  },
  {
   "cell_type": "code",
   "execution_count": 36,
   "id": "748f45c4-099f-4096-9286-494b854f81a2",
   "metadata": {
    "tags": []
   },
   "outputs": [
    {
     "data": {
      "text/plain": [
       "['The Zoho Forms WordPress plugin before 3.0.1 does not validate and escape some of its shortcode attributes before outputting them back in a page/post where the shortcode is embed, which could allow users with the contributor role and above to perform Stored Cross-Site Scripting attacks.',\n",
       " 'The WordPress Shortcodes WordPress plugin through 1.6.36 does not validate and escape some of its shortcode attributes before outputting them back in a page/post where the shortcode is embed, which could allow users with the contributor role and above to perform Stored Cross-Site Scripting attacks.',\n",
       " 'The Custom Content Shortcode WordPress plugin through 4.0.2 does not validate and escape some of its shortcode attributes before outputting them back in a page/post where the shortcode is embed, which could allow users with the contributor role and above to perform Stored Cross-Site Scripting attacks']"
      ]
     },
     "execution_count": 36,
     "metadata": {},
     "output_type": "execute_result"
    }
   ],
   "source": [
    "topic_model.get_representative_docs(1)"
   ]
  },
  {
   "cell_type": "code",
   "execution_count": 38,
   "id": "2860de4f-7eb3-49a4-aa6d-af3967fa3a3c",
   "metadata": {
    "tags": []
   },
   "outputs": [
    {
     "data": {
      "text/html": [
       "<div>\n",
       "<style scoped>\n",
       "    .dataframe tbody tr th:only-of-type {\n",
       "        vertical-align: middle;\n",
       "    }\n",
       "\n",
       "    .dataframe tbody tr th {\n",
       "        vertical-align: top;\n",
       "    }\n",
       "\n",
       "    .dataframe thead th {\n",
       "        text-align: right;\n",
       "    }\n",
       "</style>\n",
       "<table border=\"1\" class=\"dataframe\">\n",
       "  <thead>\n",
       "    <tr style=\"text-align: right;\">\n",
       "      <th></th>\n",
       "      <th>topic</th>\n",
       "      <th>document</th>\n",
       "    </tr>\n",
       "  </thead>\n",
       "  <tbody>\n",
       "    <tr>\n",
       "      <th>0</th>\n",
       "      <td>-1</td>\n",
       "      <td>An information exposure vulnerability in the P...</td>\n",
       "    </tr>\n",
       "    <tr>\n",
       "      <th>1</th>\n",
       "      <td>16</td>\n",
       "      <td>A problem with a protection mechanism in the P...</td>\n",
       "    </tr>\n",
       "    <tr>\n",
       "      <th>2</th>\n",
       "      <td>-1</td>\n",
       "      <td>A file disclosure vulnerability in the Palo Al...</td>\n",
       "    </tr>\n",
       "    <tr>\n",
       "      <th>3</th>\n",
       "      <td>58</td>\n",
       "      <td>In SAP Host Agent (Windows) - versions 7.21, 7...</td>\n",
       "    </tr>\n",
       "    <tr>\n",
       "      <th>4</th>\n",
       "      <td>50</td>\n",
       "      <td>The ABAP Keyword Documentation of SAP NetWeave...</td>\n",
       "    </tr>\n",
       "    <tr>\n",
       "      <th>...</th>\n",
       "      <td>...</td>\n",
       "      <td>...</td>\n",
       "    </tr>\n",
       "    <tr>\n",
       "      <th>3900</th>\n",
       "      <td>99</td>\n",
       "      <td>3CX DesktopApp through 18.12.416 has embedded ...</td>\n",
       "    </tr>\n",
       "    <tr>\n",
       "      <th>3901</th>\n",
       "      <td>24</td>\n",
       "      <td>An issue was discovered in the GrowthExperimen...</td>\n",
       "    </tr>\n",
       "    <tr>\n",
       "      <th>3902</th>\n",
       "      <td>24</td>\n",
       "      <td>An issue was discovered in the CheckUser exten...</td>\n",
       "    </tr>\n",
       "    <tr>\n",
       "      <th>3903</th>\n",
       "      <td>24</td>\n",
       "      <td>An issue was discovered in the GrowthExperimen...</td>\n",
       "    </tr>\n",
       "    <tr>\n",
       "      <th>3904</th>\n",
       "      <td>24</td>\n",
       "      <td>An issue was discovered in MediaWiki before 1....</td>\n",
       "    </tr>\n",
       "  </tbody>\n",
       "</table>\n",
       "<p>3905 rows × 2 columns</p>\n",
       "</div>"
      ],
      "text/plain": [
       "      topic                                           document\n",
       "0        -1  An information exposure vulnerability in the P...\n",
       "1        16  A problem with a protection mechanism in the P...\n",
       "2        -1  A file disclosure vulnerability in the Palo Al...\n",
       "3        58  In SAP Host Agent (Windows) - versions 7.21, 7...\n",
       "4        50  The ABAP Keyword Documentation of SAP NetWeave...\n",
       "...     ...                                                ...\n",
       "3900     99  3CX DesktopApp through 18.12.416 has embedded ...\n",
       "3901     24  An issue was discovered in the GrowthExperimen...\n",
       "3902     24  An issue was discovered in the CheckUser exten...\n",
       "3903     24  An issue was discovered in the GrowthExperimen...\n",
       "3904     24  An issue was discovered in MediaWiki before 1....\n",
       "\n",
       "[3905 rows x 2 columns]"
      ]
     },
     "execution_count": 38,
     "metadata": {},
     "output_type": "execute_result"
    }
   ],
   "source": [
    "df = pd.DataFrame({\"topic\": topics, \"document\": docs})\n",
    "df"
   ]
  },
  {
   "cell_type": "code",
   "execution_count": 39,
   "id": "49fb96a7-2e93-4a9f-aa62-698ec7258bda",
   "metadata": {
    "tags": []
   },
   "outputs": [],
   "source": [
    "fig = topic_model.visualize_topics()\n",
    "fig.write_html('outputs/cve/cve_topics.html', auto_open=False)"
   ]
  },
  {
   "cell_type": "code",
   "execution_count": 40,
   "id": "5276a817-d3a4-4550-9d9c-a8fb2ece36ab",
   "metadata": {
    "tags": []
   },
   "outputs": [],
   "source": [
    "fig = topic_model.visualize_barchart()\n",
    "fig.write_html('outputs/cve/cve_barchart.html', auto_open=False)"
   ]
  },
  {
   "cell_type": "code",
   "execution_count": 41,
   "id": "73b6358a-18f2-4163-955d-9f531944bd49",
   "metadata": {
    "tags": []
   },
   "outputs": [
    {
     "name": "stderr",
     "output_type": "stream",
     "text": [
      "100%|████████████████████████████████████████████████████████████████████████| 115/115 [00:00<00:00, 414.47it/s]\n"
     ]
    }
   ],
   "source": [
    "hierarchical_topics = topic_model.hierarchical_topics(docs)\n",
    "fig = topic_model.visualize_hierarchy(hierarchical_topics=hierarchical_topics)\n",
    "fig.write_html('outputs/cve/cve_hierarchy.html', auto_open=False)"
   ]
  },
  {
   "cell_type": "code",
   "execution_count": null,
   "id": "ed82dc5b-82b2-4914-805d-6c5b659bcef7",
   "metadata": {},
   "outputs": [],
   "source": []
  }
 ],
 "metadata": {
  "kernelspec": {
   "display_name": "Python 3 (ipykernel)",
   "language": "python",
   "name": "python3"
  },
  "language_info": {
   "codemirror_mode": {
    "name": "ipython",
    "version": 3
   },
   "file_extension": ".py",
   "mimetype": "text/x-python",
   "name": "python",
   "nbconvert_exporter": "python",
   "pygments_lexer": "ipython3",
   "version": "3.8.9"
  }
 },
 "nbformat": 4,
 "nbformat_minor": 5
}
