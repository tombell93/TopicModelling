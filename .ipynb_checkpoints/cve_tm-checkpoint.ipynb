{
 "cells": [
  {
   "cell_type": "code",
   "execution_count": 4,
   "id": "4794c80b-4ed8-4e1e-aba2-eff1a74c27e5",
   "metadata": {
    "tags": []
   },
   "outputs": [
    {
     "name": "stdout",
     "output_type": "stream",
     "text": [
      "huggingface/tokenizers: The current process just got forked, after parallelism has already been used. Disabling parallelism to avoid deadlocks...\n",
      "To disable this warning, you can either:\n",
      "\t- Avoid using `tokenizers` before the fork if possible\n",
      "\t- Explicitly set the environment variable TOKENIZERS_PARALLELISM=(true | false)\n",
      "Defaulting to user installation because normal site-packages is not writeable\n",
      "Requirement already satisfied: pip in /Users/tombell/Library/Python/3.8/lib/python/site-packages (23.0.1)\n"
     ]
    }
   ],
   "source": [
    "import sys\n",
    "!{sys.executable} -m pip install --upgrade pip\n"
   ]
  },
  {
   "cell_type": "code",
   "execution_count": 5,
   "id": "2c682357-050f-4ea0-b93b-676f62c6c75a",
   "metadata": {
    "collapsed": true,
    "jupyter": {
     "outputs_hidden": true
    },
    "tags": []
   },
   "outputs": [
    {
     "name": "stdout",
     "output_type": "stream",
     "text": [
      "huggingface/tokenizers: The current process just got forked, after parallelism has already been used. Disabling parallelism to avoid deadlocks...\n",
      "To disable this warning, you can either:\n",
      "\t- Avoid using `tokenizers` before the fork if possible\n",
      "\t- Explicitly set the environment variable TOKENIZERS_PARALLELISM=(true | false)\n",
      "Defaulting to user installation because normal site-packages is not writeable\n",
      "Requirement already satisfied: numpy==1.23.5 in /Users/tombell/Library/Python/3.8/lib/python/site-packages (1.23.5)\n",
      "huggingface/tokenizers: The current process just got forked, after parallelism has already been used. Disabling parallelism to avoid deadlocks...\n",
      "To disable this warning, you can either:\n",
      "\t- Avoid using `tokenizers` before the fork if possible\n",
      "\t- Explicitly set the environment variable TOKENIZERS_PARALLELISM=(true | false)\n",
      "Defaulting to user installation because normal site-packages is not writeable\n",
      "Requirement already satisfied: pandas in /Users/tombell/Library/Python/3.8/lib/python/site-packages (2.0.0)\n",
      "Requirement already satisfied: python-dateutil>=2.8.2 in /Users/tombell/Library/Python/3.8/lib/python/site-packages (from pandas) (2.8.2)\n",
      "Requirement already satisfied: pytz>=2020.1 in /Users/tombell/Library/Python/3.8/lib/python/site-packages (from pandas) (2023.3)\n",
      "Requirement already satisfied: numpy>=1.20.3 in /Users/tombell/Library/Python/3.8/lib/python/site-packages (from pandas) (1.23.5)\n",
      "Requirement already satisfied: tzdata>=2022.1 in /Users/tombell/Library/Python/3.8/lib/python/site-packages (from pandas) (2023.3)\n",
      "Requirement already satisfied: six>=1.5 in /Library/Developer/CommandLineTools/Library/Frameworks/Python3.framework/Versions/3.8/lib/python3.8/site-packages (from python-dateutil>=2.8.2->pandas) (1.15.0)\n",
      "huggingface/tokenizers: The current process just got forked, after parallelism has already been used. Disabling parallelism to avoid deadlocks...\n",
      "To disable this warning, you can either:\n",
      "\t- Avoid using `tokenizers` before the fork if possible\n",
      "\t- Explicitly set the environment variable TOKENIZERS_PARALLELISM=(true | false)\n",
      "Defaulting to user installation because normal site-packages is not writeable\n",
      "Requirement already satisfied: bertopic in /Users/tombell/Library/Python/3.8/lib/python/site-packages (0.14.1)\n",
      "Requirement already satisfied: hdbscan>=0.8.29 in /Users/tombell/Library/Python/3.8/lib/python/site-packages (from bertopic) (0.8.29)\n",
      "Requirement already satisfied: sentence-transformers>=0.4.1 in /Users/tombell/Library/Python/3.8/lib/python/site-packages (from bertopic) (2.2.2)\n",
      "Requirement already satisfied: pandas>=1.1.5 in /Users/tombell/Library/Python/3.8/lib/python/site-packages (from bertopic) (2.0.0)\n",
      "Requirement already satisfied: tqdm>=4.41.1 in /Users/tombell/Library/Python/3.8/lib/python/site-packages (from bertopic) (4.65.0)\n",
      "Requirement already satisfied: plotly>=4.7.0 in /Users/tombell/Library/Python/3.8/lib/python/site-packages (from bertopic) (5.14.0)\n",
      "Requirement already satisfied: umap-learn>=0.5.0 in /Users/tombell/Library/Python/3.8/lib/python/site-packages (from bertopic) (0.5.3)\n",
      "Requirement already satisfied: numpy>=1.20.0 in /Users/tombell/Library/Python/3.8/lib/python/site-packages (from bertopic) (1.23.5)\n",
      "Requirement already satisfied: scikit-learn>=0.22.2.post1 in /Users/tombell/Library/Python/3.8/lib/python/site-packages (from bertopic) (1.2.2)\n",
      "Requirement already satisfied: joblib>=1.0 in /Users/tombell/Library/Python/3.8/lib/python/site-packages (from hdbscan>=0.8.29->bertopic) (1.2.0)\n",
      "Requirement already satisfied: cython>=0.27 in /Users/tombell/Library/Python/3.8/lib/python/site-packages (from hdbscan>=0.8.29->bertopic) (0.29.34)\n",
      "Requirement already satisfied: scipy>=1.0 in /Users/tombell/Library/Python/3.8/lib/python/site-packages (from hdbscan>=0.8.29->bertopic) (1.10.1)\n",
      "Requirement already satisfied: python-dateutil>=2.8.2 in /Users/tombell/Library/Python/3.8/lib/python/site-packages (from pandas>=1.1.5->bertopic) (2.8.2)\n",
      "Requirement already satisfied: pytz>=2020.1 in /Users/tombell/Library/Python/3.8/lib/python/site-packages (from pandas>=1.1.5->bertopic) (2023.3)\n",
      "Requirement already satisfied: tzdata>=2022.1 in /Users/tombell/Library/Python/3.8/lib/python/site-packages (from pandas>=1.1.5->bertopic) (2023.3)\n",
      "Requirement already satisfied: packaging in /Users/tombell/Library/Python/3.8/lib/python/site-packages (from plotly>=4.7.0->bertopic) (23.0)\n",
      "Requirement already satisfied: tenacity>=6.2.0 in /Users/tombell/Library/Python/3.8/lib/python/site-packages (from plotly>=4.7.0->bertopic) (8.2.2)\n",
      "Requirement already satisfied: threadpoolctl>=2.0.0 in /Users/tombell/Library/Python/3.8/lib/python/site-packages (from scikit-learn>=0.22.2.post1->bertopic) (3.1.0)\n",
      "Requirement already satisfied: sentencepiece in /Users/tombell/Library/Python/3.8/lib/python/site-packages (from sentence-transformers>=0.4.1->bertopic) (0.1.97)\n",
      "Requirement already satisfied: torch>=1.6.0 in /Users/tombell/Library/Python/3.8/lib/python/site-packages (from sentence-transformers>=0.4.1->bertopic) (2.0.0)\n",
      "Requirement already satisfied: transformers<5.0.0,>=4.6.0 in /Users/tombell/Library/Python/3.8/lib/python/site-packages (from sentence-transformers>=0.4.1->bertopic) (4.27.4)\n",
      "Requirement already satisfied: torchvision in /Users/tombell/Library/Python/3.8/lib/python/site-packages (from sentence-transformers>=0.4.1->bertopic) (0.15.1)\n",
      "Requirement already satisfied: huggingface-hub>=0.4.0 in /Users/tombell/Library/Python/3.8/lib/python/site-packages (from sentence-transformers>=0.4.1->bertopic) (0.13.3)\n",
      "Requirement already satisfied: nltk in /Users/tombell/Library/Python/3.8/lib/python/site-packages (from sentence-transformers>=0.4.1->bertopic) (3.8.1)\n",
      "Requirement already satisfied: numba>=0.49 in /Users/tombell/Library/Python/3.8/lib/python/site-packages (from umap-learn>=0.5.0->bertopic) (0.56.4)\n",
      "Requirement already satisfied: pynndescent>=0.5 in /Users/tombell/Library/Python/3.8/lib/python/site-packages (from umap-learn>=0.5.0->bertopic) (0.5.8)\n",
      "Requirement already satisfied: filelock in /Users/tombell/Library/Python/3.8/lib/python/site-packages (from huggingface-hub>=0.4.0->sentence-transformers>=0.4.1->bertopic) (3.10.7)\n",
      "Requirement already satisfied: requests in /Users/tombell/Library/Python/3.8/lib/python/site-packages (from huggingface-hub>=0.4.0->sentence-transformers>=0.4.1->bertopic) (2.28.2)\n",
      "Requirement already satisfied: typing-extensions>=3.7.4.3 in /Users/tombell/Library/Python/3.8/lib/python/site-packages (from huggingface-hub>=0.4.0->sentence-transformers>=0.4.1->bertopic) (4.5.0)\n",
      "Requirement already satisfied: pyyaml>=5.1 in /Users/tombell/Library/Python/3.8/lib/python/site-packages (from huggingface-hub>=0.4.0->sentence-transformers>=0.4.1->bertopic) (6.0)\n",
      "Requirement already satisfied: llvmlite<0.40,>=0.39.0dev0 in /Users/tombell/Library/Python/3.8/lib/python/site-packages (from numba>=0.49->umap-learn>=0.5.0->bertopic) (0.39.1)\n",
      "Requirement already satisfied: importlib-metadata in /Users/tombell/Library/Python/3.8/lib/python/site-packages (from numba>=0.49->umap-learn>=0.5.0->bertopic) (6.1.0)\n",
      "Requirement already satisfied: setuptools in /Library/Developer/CommandLineTools/Library/Frameworks/Python3.framework/Versions/3.8/lib/python3.8/site-packages (from numba>=0.49->umap-learn>=0.5.0->bertopic) (49.2.1)\n",
      "Requirement already satisfied: six>=1.5 in /Library/Developer/CommandLineTools/Library/Frameworks/Python3.framework/Versions/3.8/lib/python3.8/site-packages (from python-dateutil>=2.8.2->pandas>=1.1.5->bertopic) (1.15.0)\n",
      "Requirement already satisfied: jinja2 in /Users/tombell/Library/Python/3.8/lib/python/site-packages (from torch>=1.6.0->sentence-transformers>=0.4.1->bertopic) (3.1.2)\n",
      "Requirement already satisfied: networkx in /Users/tombell/Library/Python/3.8/lib/python/site-packages (from torch>=1.6.0->sentence-transformers>=0.4.1->bertopic) (3.0)\n",
      "Requirement already satisfied: sympy in /Users/tombell/Library/Python/3.8/lib/python/site-packages (from torch>=1.6.0->sentence-transformers>=0.4.1->bertopic) (1.11.1)\n",
      "Requirement already satisfied: regex!=2019.12.17 in /Users/tombell/Library/Python/3.8/lib/python/site-packages (from transformers<5.0.0,>=4.6.0->sentence-transformers>=0.4.1->bertopic) (2023.3.23)\n",
      "Requirement already satisfied: tokenizers!=0.11.3,<0.14,>=0.11.1 in /Users/tombell/Library/Python/3.8/lib/python/site-packages (from transformers<5.0.0,>=4.6.0->sentence-transformers>=0.4.1->bertopic) (0.13.2)\n",
      "Requirement already satisfied: click in /Users/tombell/Library/Python/3.8/lib/python/site-packages (from nltk->sentence-transformers>=0.4.1->bertopic) (8.1.3)\n",
      "Requirement already satisfied: pillow!=8.3.*,>=5.3.0 in /Users/tombell/Library/Python/3.8/lib/python/site-packages (from torchvision->sentence-transformers>=0.4.1->bertopic) (9.5.0)\n",
      "Requirement already satisfied: zipp>=0.5 in /Users/tombell/Library/Python/3.8/lib/python/site-packages (from importlib-metadata->numba>=0.49->umap-learn>=0.5.0->bertopic) (3.15.0)\n",
      "Requirement already satisfied: MarkupSafe>=2.0 in /Users/tombell/Library/Python/3.8/lib/python/site-packages (from jinja2->torch>=1.6.0->sentence-transformers>=0.4.1->bertopic) (2.1.2)\n",
      "Requirement already satisfied: idna<4,>=2.5 in /Users/tombell/Library/Python/3.8/lib/python/site-packages (from requests->huggingface-hub>=0.4.0->sentence-transformers>=0.4.1->bertopic) (3.4)\n",
      "Requirement already satisfied: certifi>=2017.4.17 in /Users/tombell/Library/Python/3.8/lib/python/site-packages (from requests->huggingface-hub>=0.4.0->sentence-transformers>=0.4.1->bertopic) (2022.12.7)\n",
      "Requirement already satisfied: urllib3<1.27,>=1.21.1 in /Users/tombell/Library/Python/3.8/lib/python/site-packages (from requests->huggingface-hub>=0.4.0->sentence-transformers>=0.4.1->bertopic) (1.26.15)\n",
      "Requirement already satisfied: charset-normalizer<4,>=2 in /Users/tombell/Library/Python/3.8/lib/python/site-packages (from requests->huggingface-hub>=0.4.0->sentence-transformers>=0.4.1->bertopic) (3.1.0)\n",
      "Requirement already satisfied: mpmath>=0.19 in /Users/tombell/Library/Python/3.8/lib/python/site-packages (from sympy->torch>=1.6.0->sentence-transformers>=0.4.1->bertopic) (1.3.0)\n"
     ]
    }
   ],
   "source": [
    "!{sys.executable} -m pip install numpy==1.23.5\n",
    "!{sys.executable} -m pip install pandas\n",
    "!{sys.executable} -m pip install bertopic"
   ]
  },
  {
   "cell_type": "code",
   "execution_count": 25,
   "id": "77edfa06-c6aa-4e64-bfcd-eda88d790e37",
   "metadata": {
    "tags": []
   },
   "outputs": [
    {
     "data": {
      "text/plain": [
       "100"
      ]
     },
     "execution_count": 25,
     "metadata": {},
     "output_type": "execute_result"
    }
   ],
   "source": [
    "from bertopic import BERTopic\n",
    "\n",
    "import json\n",
    "import pandas as pd\n",
    "\n",
    "with open(\"data/nvdcve-1.1-2023.json\", \"r\", encoding=\"utf-8\") as f:\n",
    "    docs_tmp = json.load(f)[\"CVE_Items\"]\n",
    "len(docs)"
   ]
  },
  {
   "cell_type": "code",
   "execution_count": 27,
   "id": "44217837-7168-4c1e-bacd-714bf24398b3",
   "metadata": {
    "tags": []
   },
   "outputs": [
    {
     "data": {
      "text/plain": [
       "100"
      ]
     },
     "execution_count": 27,
     "metadata": {},
     "output_type": "execute_result"
    }
   ],
   "source": [
    "docs = []\n",
    "\n",
    "for d in docs_tmp[:100]:\n",
    "    docs.append(d['cve']['description']['description_data'][0]['value'])\n",
    "    \n",
    "len(docs)"
   ]
  },
  {
   "cell_type": "code",
   "execution_count": 28,
   "id": "71f6621f-7dae-4602-b8fa-03384961a75d",
   "metadata": {
    "tags": []
   },
   "outputs": [],
   "source": [
    "topic_model = BERTopic(embedding_model=\"all-MiniLM-L6-v2\")\n",
    "topics, probs = topic_model.fit_transform(docs_tmp)"
   ]
  },
  {
   "cell_type": "code",
   "execution_count": 29,
   "id": "a64ef379-9535-4079-a2ec-c2dac2efc139",
   "metadata": {
    "tags": []
   },
   "outputs": [
    {
     "data": {
      "text/html": [
       "<div>\n",
       "<style scoped>\n",
       "    .dataframe tbody tr th:only-of-type {\n",
       "        vertical-align: middle;\n",
       "    }\n",
       "\n",
       "    .dataframe tbody tr th {\n",
       "        vertical-align: top;\n",
       "    }\n",
       "\n",
       "    .dataframe thead th {\n",
       "        text-align: right;\n",
       "    }\n",
       "</style>\n",
       "<table border=\"1\" class=\"dataframe\">\n",
       "  <thead>\n",
       "    <tr style=\"text-align: right;\">\n",
       "      <th></th>\n",
       "      <th>Topic</th>\n",
       "      <th>Count</th>\n",
       "      <th>Name</th>\n",
       "    </tr>\n",
       "  </thead>\n",
       "  <tbody>\n",
       "    <tr>\n",
       "      <th>0</th>\n",
       "      <td>0</td>\n",
       "      <td>62</td>\n",
       "      <td>0_to_the_in_an</td>\n",
       "    </tr>\n",
       "    <tr>\n",
       "      <th>1</th>\n",
       "      <td>1</td>\n",
       "      <td>38</td>\n",
       "      <td>1_the_and_before_to</td>\n",
       "    </tr>\n",
       "  </tbody>\n",
       "</table>\n",
       "</div>"
      ],
      "text/plain": [
       "   Topic  Count                 Name\n",
       "0      0     62       0_to_the_in_an\n",
       "1      1     38  1_the_and_before_to"
      ]
     },
     "execution_count": 29,
     "metadata": {},
     "output_type": "execute_result"
    }
   ],
   "source": [
    "topic_model.get_topic_info()"
   ]
  },
  {
   "cell_type": "code",
   "execution_count": 47,
   "id": "3a20cc9d-72f9-45b9-bfb1-dcc04de039ad",
   "metadata": {
    "tags": []
   },
   "outputs": [
    {
     "data": {
      "text/plain": [
       "[('the', 0.07121315399377164),\n",
       " ('to', 0.06767755485129894),\n",
       " ('skill', 0.05930633425090988),\n",
       " ('level', 0.05846896069756806),\n",
       " ('medium', 0.042134747079104744),\n",
       " ('and', 0.04033153460316609),\n",
       " ('low', 0.03830766464136018),\n",
       " ('web', 0.03639515004996006),\n",
       " ('that', 0.03523755438115718),\n",
       " ('malicious', 0.034867866552666105)]"
      ]
     },
     "execution_count": 47,
     "metadata": {},
     "output_type": "execute_result"
    }
   ],
   "source": [
    "topic_model.get_topic(0)"
   ]
  },
  {
   "cell_type": "code",
   "execution_count": 48,
   "id": "748f45c4-099f-4096-9286-494b854f81a2",
   "metadata": {
    "tags": []
   },
   "outputs": [
    {
     "data": {
      "text/plain": [
       "[\"::SKILL:Ability to read, interpret, and subsequently alter manufacturer's documentation to cause errors in system design.:LEVEL:High::SKILL:Ability to stealthly gain access via remote compromise or physical access to the manufacturer's documentation.:LEVEL:High::\",\n",
       " \"::SKILL:Intelligence about the manufacturer's operating environment and infrastructure.:LEVEL:Medium::SKILL:Ability to develop, deploy, and maintain a stealth malicious backdoor program remotely in what is essentially a hostile environment.:LEVEL:High::SKILL:Development skills to construct malicious attachments that can be used to exploit vulnerabilities in typical desktop applications or system configurations. The malicious attachments should be crafted well enough to bypass typical defensive systems (IDS, anti-virus, etc):LEVEL:High::\",\n",
       " \"::SKILL:Intelligence about the manufacturer's operating environment and infrastructure.:LEVEL:Medium::SKILL:Ability to develop, deploy, and maintain a stealth malicious backdoor program remotely in what is essentially a hostile environment.:LEVEL:High::SKILL:Development skills to construct malicious attachments that can be used to exploit vulnerabilities in typical desktop applications or system configurations. The malicious attachments should be crafted well enough to bypass typical defensive systems (IDS, anti-virus, etc):LEVEL:High::\"]"
      ]
     },
     "execution_count": 48,
     "metadata": {},
     "output_type": "execute_result"
    }
   ],
   "source": [
    "topic_model.get_representative_docs(1)"
   ]
  },
  {
   "cell_type": "code",
   "execution_count": 49,
   "id": "2860de4f-7eb3-49a4-aa6d-af3967fa3a3c",
   "metadata": {
    "tags": []
   },
   "outputs": [
    {
     "data": {
      "text/html": [
       "<div>\n",
       "<style scoped>\n",
       "    .dataframe tbody tr th:only-of-type {\n",
       "        vertical-align: middle;\n",
       "    }\n",
       "\n",
       "    .dataframe tbody tr th {\n",
       "        vertical-align: top;\n",
       "    }\n",
       "\n",
       "    .dataframe thead th {\n",
       "        text-align: right;\n",
       "    }\n",
       "</style>\n",
       "<table border=\"1\" class=\"dataframe\">\n",
       "  <thead>\n",
       "    <tr style=\"text-align: right;\">\n",
       "      <th></th>\n",
       "      <th>topic</th>\n",
       "      <th>document</th>\n",
       "    </tr>\n",
       "  </thead>\n",
       "  <tbody>\n",
       "    <tr>\n",
       "      <th>0</th>\n",
       "      <td>2</td>\n",
       "      <td>::SKILL:In order to discover unrestricted reso...</td>\n",
       "    </tr>\n",
       "    <tr>\n",
       "      <th>1</th>\n",
       "      <td>7</td>\n",
       "      <td>::SKILL:An attacker can simply overflow a buff...</td>\n",
       "    </tr>\n",
       "    <tr>\n",
       "      <th>2</th>\n",
       "      <td>7</td>\n",
       "      <td>::SKILL:In most cases, overflowing a buffer do...</td>\n",
       "    </tr>\n",
       "    <tr>\n",
       "      <th>3</th>\n",
       "      <td>-1</td>\n",
       "      <td>::SKILL:The attacker needs to be aware of SSI ...</td>\n",
       "    </tr>\n",
       "    <tr>\n",
       "      <th>4</th>\n",
       "      <td>2</td>\n",
       "      <td>::SKILL:Easy to use tools exist to automate th...</td>\n",
       "    </tr>\n",
       "    <tr>\n",
       "      <th>...</th>\n",
       "      <td>...</td>\n",
       "      <td>...</td>\n",
       "    </tr>\n",
       "    <tr>\n",
       "      <th>291</th>\n",
       "      <td>2</td>\n",
       "      <td>::SKILL:This attack can get sophisticated sinc...</td>\n",
       "    </tr>\n",
       "    <tr>\n",
       "      <th>292</th>\n",
       "      <td>0</td>\n",
       "      <td>::SKILL:This attack can be as simple as readin...</td>\n",
       "    </tr>\n",
       "    <tr>\n",
       "      <th>293</th>\n",
       "      <td>1</td>\n",
       "      <td>::SKILL:Knowledge of how to block access to li...</td>\n",
       "    </tr>\n",
       "    <tr>\n",
       "      <th>294</th>\n",
       "      <td>2</td>\n",
       "      <td>::SKILL:Cryptanalysis generally requires a ver...</td>\n",
       "    </tr>\n",
       "    <tr>\n",
       "      <th>295</th>\n",
       "      <td>0</td>\n",
       "      <td>::SKILL:Basic knowledge about websites: obtain...</td>\n",
       "    </tr>\n",
       "  </tbody>\n",
       "</table>\n",
       "<p>296 rows × 2 columns</p>\n",
       "</div>"
      ],
      "text/plain": [
       "     topic                                           document\n",
       "0        2  ::SKILL:In order to discover unrestricted reso...\n",
       "1        7  ::SKILL:An attacker can simply overflow a buff...\n",
       "2        7  ::SKILL:In most cases, overflowing a buffer do...\n",
       "3       -1  ::SKILL:The attacker needs to be aware of SSI ...\n",
       "4        2  ::SKILL:Easy to use tools exist to automate th...\n",
       "..     ...                                                ...\n",
       "291      2  ::SKILL:This attack can get sophisticated sinc...\n",
       "292      0  ::SKILL:This attack can be as simple as readin...\n",
       "293      1  ::SKILL:Knowledge of how to block access to li...\n",
       "294      2  ::SKILL:Cryptanalysis generally requires a ver...\n",
       "295      0  ::SKILL:Basic knowledge about websites: obtain...\n",
       "\n",
       "[296 rows x 2 columns]"
      ]
     },
     "execution_count": 49,
     "metadata": {},
     "output_type": "execute_result"
    }
   ],
   "source": [
    "df = pd.DataFrame({\"topic\": topics, \"document\": docs})\n",
    "df"
   ]
  },
  {
   "cell_type": "code",
   "execution_count": 55,
   "id": "49fb96a7-2e93-4a9f-aa62-698ec7258bda",
   "metadata": {
    "tags": []
   },
   "outputs": [],
   "source": [
    "fig = topic_model.visualize_topics()\n",
    "fig.write_html('outputs/capec/capec_topics.html', auto_open=False)"
   ]
  },
  {
   "cell_type": "code",
   "execution_count": 56,
   "id": "5276a817-d3a4-4550-9d9c-a8fb2ece36ab",
   "metadata": {
    "tags": []
   },
   "outputs": [],
   "source": [
    "fig = topic_model.visualize_barchart()\n",
    "fig.write_html('outputs/capec/capec_barchart.html', auto_open=False)"
   ]
  },
  {
   "cell_type": "code",
   "execution_count": 57,
   "id": "73b6358a-18f2-4163-955d-9f531944bd49",
   "metadata": {
    "tags": []
   },
   "outputs": [
    {
     "name": "stderr",
     "output_type": "stream",
     "text": [
      "100%|██████████████████████████████████████████████████████████████████████████████| 7/7 [00:00<00:00, 384.70it/s]\n"
     ]
    }
   ],
   "source": [
    "hierarchical_topics = topic_model.hierarchical_topics(docs)\n",
    "fig = topic_model.visualize_hierarchy(hierarchical_topics=hierarchical_topics)\n",
    "fig.write_html('outputs/capec/capec_hierarchy.html', auto_open=False)"
   ]
  }
 ],
 "metadata": {
  "kernelspec": {
   "display_name": "Python 3 (ipykernel)",
   "language": "python",
   "name": "python3"
  },
  "language_info": {
   "codemirror_mode": {
    "name": "ipython",
    "version": 3
   },
   "file_extension": ".py",
   "mimetype": "text/x-python",
   "name": "python",
   "nbconvert_exporter": "python",
   "pygments_lexer": "ipython3",
   "version": "3.8.9"
  }
 },
 "nbformat": 4,
 "nbformat_minor": 5
}
